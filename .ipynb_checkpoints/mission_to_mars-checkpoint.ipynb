{
 "cells": [
  {
   "cell_type": "code",
   "execution_count": 42,
   "metadata": {},
   "outputs": [],
   "source": [
    "from flask import Flask, render_template, redirect\n",
    "from flask_pymongo import PyMongo\n",
    "\n",
    "app = Flask(__name__)\n",
    "\n",
    "# Use flask_pymongo to set up mongo connection\n",
    "app.config[\"MONGO_URI\"] = \"mongodb://localhost:27017/app\"\n",
    "mongo = PyMongo(app)\n"
   ]
  },
  {
   "cell_type": "code",
   "execution_count": 43,
   "metadata": {},
   "outputs": [],
   "source": [
    "@app.route('/')\n",
    "def index():\n",
    "    # find one document from our mongo db and return it.\n",
    "    mars_headlines = mongo.db.listings.find_one()\n",
    "    # pass that listing to render_template\n",
    "    return render_template(\"index.html\", mars_headlines=mars_headlines)"
   ]
  },
  {
   "cell_type": "code",
   "execution_count": 44,
   "metadata": {},
   "outputs": [],
   "source": [
    "@app.route(\"/scrape\")\n",
    "def scraper():\n",
    "    # create a listings database\n",
    "    mars_headlines = mongo.db.mars_headlines\n",
    "    # call the scrape function in our scrape_craigslist file. This will scrape and save to mongo.\n",
    "    mars_headline_data = scrape_nasa_news.scrape()\n",
    "    # update our listings with the data that is being scraped.\n",
    "    mars_headlines.update(\n",
    "        {},\n",
    "        mars_headline_data,\n",
    "        upsert=True\n",
    "    )\n",
    "    # return a message to our page so we know it was successful.\n",
    "    return redirect(\"/\", code=302)\n",
    "\n",
    "if __name__ ==\"main\":\n",
    "    app.run(debug=True)"
   ]
  },
  {
   "cell_type": "code",
   "execution_count": null,
   "metadata": {},
   "outputs": [],
   "source": []
  },
  {
   "cell_type": "code",
   "execution_count": null,
   "metadata": {},
   "outputs": [],
   "source": []
  },
  {
   "cell_type": "code",
   "execution_count": 45,
   "metadata": {},
   "outputs": [],
   "source": [
    "from splinter import Browser\n",
    "from bs4 import BeautifulSoup as bs\n",
    "import time\n",
    "from selenium import webdriver\n",
    "import pandas as pd"
   ]
  },
  {
   "cell_type": "code",
   "execution_count": 50,
   "metadata": {},
   "outputs": [],
   "source": [
    "def init_browser():\n",
    "    # @NOTE: Replace the path with your actual path to the chromedriver\n",
    "    executable_path = {\"executable_path\": \"chromedriver.exe\"}\n",
    "    return Browser(\"chrome\", **executable_path, headless=False)"
   ]
  },
  {
   "cell_type": "code",
   "execution_count": 51,
   "metadata": {},
   "outputs": [],
   "source": [
    "def scrape():\n",
    "    browser = init_browser()\n",
    "    \n",
    "    #set empty dict for mars_headlines\n",
    "    mars_headlines = {}\n",
    "\n",
    "    # URL we want to scrape\n",
    "    url = \"https://mars.nasa.gov/news/?page=0&per_page=40&order=publish_date+desc%2Ccreated_at+desc&search=&category=19%2C165%2C184%2C204&blank_scope=Latest\"\n",
    "    \n",
    "    # Call visit on browser and pass url\n",
    "    browser.visit(url)\n",
    "    \n",
    "    #1 sec. sleep time\n",
    "    time.sleep(1)\n",
    "\n",
    "    # #return all html on page\n",
    "    html = browser.html\n",
    "    \n",
    "    # Create a BeautifulSoup object, pass in our HTML, and call 'html.parser'\n",
    "    soup = bs(html, \"html.parser\")\n",
    "    \n",
    "    # Build our dictionary for headline, price and neighborhood from our scraped data.\n",
    "    mars_headlines[\"news_title\"] = soup.find(\"div\", class_=\"content_title\").get_text()\n",
    "    mars_headlines[\"paragraph\"] = soup.find(\"div\", class_=\"article_teaser_body\").get_text()\n",
    "    \n",
    "    browser.quit()\n",
    "    return mars_headlines\n",
    "    \n",
    "    \n"
   ]
  },
  {
   "cell_type": "code",
   "execution_count": 48,
   "metadata": {},
   "outputs": [
    {
     "ename": "NameError",
     "evalue": "name 'mars_headlines' is not defined",
     "output_type": "error",
     "traceback": [
      "\u001b[1;31m---------------------------------------------------------------------------\u001b[0m",
      "\u001b[1;31mNameError\u001b[0m                                 Traceback (most recent call last)",
      "\u001b[1;32m<ipython-input-48-68ed7b9c734d>\u001b[0m in \u001b[0;36m<module>\u001b[1;34m\u001b[0m\n\u001b[1;32m----> 1\u001b[1;33m \u001b[0mmars_headlines\u001b[0m\u001b[1;33m\u001b[0m\u001b[1;33m\u001b[0m\u001b[0m\n\u001b[0m",
      "\u001b[1;31mNameError\u001b[0m: name 'mars_headlines' is not defined"
     ]
    }
   ],
   "source": []
  }
 ],
 "metadata": {
  "kernelspec": {
   "display_name": "Python 3",
   "language": "python",
   "name": "python3"
  },
  "language_info": {
   "codemirror_mode": {
    "name": "ipython",
    "version": 3
   },
   "file_extension": ".py",
   "mimetype": "text/x-python",
   "name": "python",
   "nbconvert_exporter": "python",
   "pygments_lexer": "ipython3",
   "version": "3.7.3"
  }
 },
 "nbformat": 4,
 "nbformat_minor": 2
}
